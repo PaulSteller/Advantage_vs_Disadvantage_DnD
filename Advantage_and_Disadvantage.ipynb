{
 "cells": [
  {
   "cell_type": "markdown",
   "metadata": {},
   "source": [
    "### In this notebook, I will answer the following question, posed on\n",
    "### https://fivethirtyeight.com/features/can-you-find-the-best-dungeons-dragons-strategy/?fbclid=IwAR2MJN9VaFJNCdwPfGxt3wP7cGmmoLrJhrQROXKzD5vErLU7_I0jaP-aIWs:\n",
    "\n",
    "\n",
    "### The fifth edition of Dungeons & Dragons introduced a system of “advantage and disadvantage.” When you roll a die “with advantage,” you roll the die twice and keep the higher result. Rolling “with disadvantage” is similar, except you keep the lower result instead. The rules further specify that when a player rolls with both advantage and disadvantage, they cancel out, and the player rolls a single die. Yawn!\n",
    "\n",
    "### There are two other, more mathematically interesting ways that advantage and disadvantage could be combined. First, you could have “advantage of disadvantage,” meaning you roll twice with disadvantage and then keep the higher result. Or, you could have “disadvantage of advantage,” meaning you roll twice with advantage and then keep the lower result. With a fair 20-sided die, which situation produces the highest expected roll: advantage of disadvantage, disadvantage of advantage or rolling a single die?\n",
    "\n",
    "### Extra Credit: Instead of maximizing your expected roll, suppose you need to roll N or better with your 20-sided die. For each value of $N$, is it better to use advantage of disadvantage, disadvantage of advantage or rolling a single die?"
   ]
  },
  {
   "cell_type": "markdown",
   "metadata": {},
   "source": [
    "# We begin by approximating the expected values using one billion rolls"
   ]
  },
  {
   "cell_type": "markdown",
   "metadata": {},
   "source": [
    "![EvilUrl](https://media1.tenor.com/images/c7b8258ba0f4f6333a4fd1812e9b01d9/tenor.gif \"evil\")\n"
   ]
  },
  {
   "cell_type": "code",
   "execution_count": 22,
   "metadata": {},
   "outputs": [],
   "source": [
    "import pandas as pd\n",
    "import numpy as np\n",
    "from random import randint\n",
    "import matplotlib.pyplot as plt"
   ]
  },
  {
   "cell_type": "code",
   "execution_count": 35,
   "metadata": {},
   "outputs": [],
   "source": [
    "def disadvantage():\n",
    "    d_1 = randint(1,20)\n",
    "    d_2 = randint(1,20)\n",
    "    if d_1 <= d_2:\n",
    "        roll = d_1\n",
    "    else:\n",
    "        roll = d_2\n",
    "    return roll\n",
    "\n",
    "def advantage():\n",
    "    d_1 = randint(1,20)\n",
    "    d_2 = randint(1,20)\n",
    "    if d_1 >= d_2:\n",
    "        roll = d_1\n",
    "    else:\n",
    "        roll = d_2\n",
    "    return roll"
   ]
  },
  {
   "cell_type": "markdown",
   "metadata": {},
   "source": [
    "## Average for Rolling with Disadvantage"
   ]
  },
  {
   "cell_type": "code",
   "execution_count": 62,
   "metadata": {},
   "outputs": [],
   "source": [
    "rolls_dis = np.empty(1000000000)\n",
    "for i in range(1000000000):\n",
    "    rolls_dis[i]= disadvantage()\n"
   ]
  },
  {
   "cell_type": "code",
   "execution_count": 94,
   "metadata": {},
   "outputs": [
    {
     "data": {
      "image/png": "[encoded data removed]",
      "text/plain": [
       "<Figure size 432x288 with 1 Axes>"
      ]
     },
     "metadata": {
      "needs_background": "light"
     },
     "output_type": "display_data"
    },
    {
     "name": "stdout",
     "output_type": "stream",
     "text": [
      "Average Roll: 7.174836926\n"
     ]
    }
   ],
   "source": [
    "plt.hist(rolls_dis, bins = 20, edgecolor='black')\n",
    "plt.xlabel('Roll')\n",
    "plt.ylabel('Frequency')\n",
    "\n",
    "x = [0,1,2,3,4,5,6,7,8,9,10,11,12,13,14,15,16,17,18,19,20]\n",
    "xi = list(range(len(x)))\n",
    "plt.xticks(xi, x)\n",
    "plt.title('Rolling with Disadvantage')\n",
    "plt.show()\n",
    "print('Average Roll:', np.mean(rolls_dis))"
   ]
  },
  {
   "cell_type": "markdown",
   "metadata": {},
   "source": [
    "## Average for Rolling with Advantage\n"
   ]
  },
  {
   "cell_type": "code",
   "execution_count": 64,
   "metadata": {},
   "outputs": [],
   "source": [
    "rolls_adv = np.empty(1000000000)\n",
    "for i in range(1000000000):\n",
    "    rolls_adv[i]= advantage()\n"
   ]
  },
  {
   "cell_type": "code",
   "execution_count": 93,
   "metadata": {},
   "outputs": [
    {
     "data": {
      "image/png": "[encoded data removed]",
      "text/plain": [
       "<Figure size 432x288 with 1 Axes>"
      ]
     },
     "metadata": {
      "needs_background": "light"
     },
     "output_type": "display_data"
    },
    {
     "name": "stdout",
     "output_type": "stream",
     "text": [
      "Average Roll: 13.824985845\n"
     ]
    }
   ],
   "source": [
    "plt.hist(rolls_adv, bins = 20, edgecolor='black')\n",
    "plt.xlabel('Roll')\n",
    "plt.ylabel('Frequency')\n",
    "\n",
    "x = [0,1,2,3,4,5,6,7,8,9,10,11,12,13,14,15,16,17,18,19,20]\n",
    "xi = list(range(len(x)))\n",
    "plt.xticks(xi, x)\n",
    "plt.title('Rolling with Advantage')\n",
    "plt.show()\n",
    "print('Average Roll:', np.mean(rolls_adv))"
   ]
  },
  {
   "cell_type": "markdown",
   "metadata": {},
   "source": []
  },
  {
   "cell_type": "markdown",
   "metadata": {},
   "source": [
    "## \"Advantage of Disadvantage” \n",
    "### roll twice with disadvantage and then keep the higher result"
   ]
  },
  {
   "cell_type": "code",
   "execution_count": null,
   "metadata": {},
   "outputs": [],
   "source": [
    "def adv_of_disadv():\n",
    "    first_roll = disadvantage()\n",
    "    second_roll = disadvantage()\n",
    "    roll = np.max([first_roll, second_roll])\n",
    "    return roll\n",
    "\n",
    "\n",
    "rolls_adv_of_disadv = np.empty(1000000000)\n",
    "for i in range(1000000000):\n",
    "    rolls_adv_of_disadv[i]= adv_of_disadv()"
   ]
  },
  {
   "cell_type": "code",
   "execution_count": 82,
   "metadata": {},
   "outputs": [
    {
     "data": {
      "image/png": "[encoded data removed]",
      "text/plain": [
       "<Figure size 432x288 with 1 Axes>"
      ]
     },
     "metadata": {
      "needs_background": "light"
     },
     "output_type": "display_data"
    },
    {
     "name": "stdout",
     "output_type": "stream",
     "text": [
      "Average Roll: 9.833217034\n"
     ]
    }
   ],
   "source": [
    "plt.hist(rolls_adv_of_disadv, bins = 20, edgecolor='black')\n",
    "plt.xlabel('Roll')\n",
    "plt.ylabel('Frequency')\n",
    "\n",
    "x = [0,1,2,3,4,5,6,7,8,9,10,11,12,13,14,15,16,17,18,19,20]\n",
    "xi = list(range(len(x)))\n",
    "plt.xticks(xi, x)\n",
    "plt.title('Rolling with Advantage of Disadvantage')\n",
    "plt.show()\n",
    "print('Average Roll:', np.mean(rolls_adv_of_disadv))"
   ]
  },
  {
   "cell_type": "markdown",
   "metadata": {},
   "source": [
    "## \"Disdvantage of Advantage” \n",
    "### roll twice with advantage and then keep the lower result"
   ]
  },
  {
   "cell_type": "code",
   "execution_count": null,
   "metadata": {},
   "outputs": [],
   "source": [
    "def disadv_of_adv():\n",
    "    first_roll = advantage()\n",
    "    second_roll = advantage()\n",
    "    roll = np.min([first_roll, second_roll])\n",
    "    return roll"
   ]
  },
  {
   "cell_type": "code",
   "execution_count": 68,
   "metadata": {},
   "outputs": [],
   "source": [
    "rolls_disadv_of_adv = np.empty(1000000000)\n",
    "for i in range(1000000000):\n",
    "    rolls_disadv_of_adv[i] = disadv_of_adv()"
   ]
  },
  {
   "cell_type": "code",
   "execution_count": 81,
   "metadata": {},
   "outputs": [
    {
     "data": {
      "image/png": "[encoded data removed]",
      "text/plain": [
       "<Figure size 432x288 with 1 Axes>"
      ]
     },
     "metadata": {
      "needs_background": "light"
     },
     "output_type": "display_data"
    },
    {
     "name": "stdout",
     "output_type": "stream",
     "text": [
      "Average Roll: 11.166607478\n"
     ]
    }
   ],
   "source": [
    "plt.hist(rolls_disadv_of_adv, bins = 20, edgecolor='black')\n",
    "plt.xlabel('Roll')\n",
    "plt.ylabel('Frequency')\n",
    "\n",
    "x = [0,1,2,3,4,5,6,7,8,9,10,11,12,13,14,15,16,17,18,19,20]\n",
    "xi = list(range(len(x)))\n",
    "plt.xticks(xi, x)\n",
    "plt.title('Rolling with Disadvantage of Advantage')\n",
    "plt.show()\n",
    "print('Average Roll:', np.mean(rolls_disadv_of_adv))"
   ]
  },
  {
   "cell_type": "markdown",
   "metadata": {},
   "source": [
    "## Rolling a Single Dice"
   ]
  },
  {
   "cell_type": "code",
   "execution_count": 70,
   "metadata": {},
   "outputs": [],
   "source": [
    "single_roll = np.empty(1000000000)\n",
    "for i in range(1000000000):\n",
    "    single_roll[i] = randint(1,20)"
   ]
  },
  {
   "cell_type": "code",
   "execution_count": 80,
   "metadata": {},
   "outputs": [
    {
     "data": {
      "image/png": "[encoded data removed]",
      "text/plain": [
       "<Figure size 432x288 with 1 Axes>"
      ]
     },
     "metadata": {
      "needs_background": "light"
     },
     "output_type": "display_data"
    },
    {
     "name": "stdout",
     "output_type": "stream",
     "text": [
      "Average Roll: 10.500320979\n"
     ]
    }
   ],
   "source": [
    "plt.hist(single_roll, bins = 20, edgecolor='black')\n",
    "plt.xlabel('Roll')\n",
    "plt.ylabel('Frequency')\n",
    "\n",
    "x = [0,1,2,3,4,5,6,7,8,9,10,11,12,13,14,15,16,17,18,19,20]\n",
    "xi = list(range(len(x)))\n",
    "plt.xticks(xi, x)\n",
    "plt.title('A Single Roll')\n",
    "plt.show()\n",
    "print('Average Roll:', np.mean(single_roll))"
   ]
  },
  {
   "cell_type": "code",
   "execution_count": null,
   "metadata": {},
   "outputs": [],
   "source": []
  },
  {
   "cell_type": "markdown",
   "metadata": {},
   "source": [
    "# Finding the true Expected Value (using MATH!)\n",
    "\n",
    "### $E(X) = \\sum x_i f(x_i)$, where $f(x_i)$ is the probability that $x_i$ occurs"
   ]
  },
  {
   "cell_type": "markdown",
   "metadata": {},
   "source": [
    "First, we find the expected value of a single roll"
   ]
  },
  {
   "cell_type": "code",
   "execution_count": 78,
   "metadata": {},
   "outputs": [
    {
     "name": "stdout",
     "output_type": "stream",
     "text": [
      "The expected value for a SINGLE ROLL is 10.5\n"
     ]
    }
   ],
   "source": [
    "#Using the formula above to find expected value \n",
    "total = np.empty(20)\n",
    "for i in range(20):\n",
    "    total[i] = (i+1)*(1/20)\n",
    "print('The expected value for a SINGLE ROLL is', np.sum(total))"
   ]
  },
  {
   "cell_type": "markdown",
   "metadata": {},
   "source": [
    "### For fun, let's also find the expected value for a roll with disadvantage"
   ]
  },
  {
   "cell_type": "code",
   "execution_count": 72,
   "metadata": {},
   "outputs": [
    {
     "data": {
      "text/plain": [
       "400"
      ]
     },
     "execution_count": 72,
     "metadata": {},
     "output_type": "execute_result"
    }
   ],
   "source": [
    "#Finding all possible combinations of two dice rolls\n",
    "\n",
    "from itertools import product\n",
    "\n",
    "combinations = list(product(range(1,21), repeat=2))\n",
    "len(combinations)"
   ]
  },
  {
   "cell_type": "code",
   "execution_count": 73,
   "metadata": {},
   "outputs": [],
   "source": [
    "#Function for finding the probability of rolling number r, with disadvantage \n",
    "\n",
    "def disadv_probability(r):\n",
    "    count = 0\n",
    "    for i in range(400):\n",
    "        if r == np.min(combinations[i]):\n",
    "            count += 1\n",
    "    return (count / 400)"
   ]
  },
  {
   "cell_type": "code",
   "execution_count": 74,
   "metadata": {},
   "outputs": [
    {
     "name": "stdout",
     "output_type": "stream",
     "text": [
      "The expected value for a roll with DISADVANTAGE is 7.175\n"
     ]
    }
   ],
   "source": [
    "#Using the formula above to find expected value \n",
    "\n",
    "total = np.empty(20)\n",
    "for i in range(20):\n",
    "    total[i] = (i+1)*disadv_probability(i+1)\n",
    "print('The expected value for a roll with DISADVANTAGE is', np.sum(total))\n",
    "    "
   ]
  },
  {
   "cell_type": "markdown",
   "metadata": {},
   "source": [
    "### To find the probabilities of advantage of disadvantage (AoD) and disadvantage of advantage (DoA), we list out all possible combinations of rolling two dice twice"
   ]
  },
  {
   "cell_type": "code",
   "execution_count": 75,
   "metadata": {},
   "outputs": [
    {
     "data": {
      "text/plain": [
       "160000"
      ]
     },
     "execution_count": 75,
     "metadata": {},
     "output_type": "execute_result"
    }
   ],
   "source": [
    "two_rolls_twice = list(product(combinations, repeat=2))\n",
    "len(two_rolls_twice)"
   ]
  },
  {
   "cell_type": "code",
   "execution_count": 76,
   "metadata": {},
   "outputs": [],
   "source": [
    "#Function for finding the probability of rolling r, with AoD\n",
    "def adv_of_disadv_probability(r):\n",
    "    count = 0\n",
    "    for n in range(160000):\n",
    "        disadv = []\n",
    "        for i,j in two_rolls_twice[n]:\n",
    "            disadv.append(min(i,j))\n",
    "        adv = max(disadv)\n",
    "        if r == adv:\n",
    "            count += 1\n",
    "    return (count / 160000)\n",
    "\n",
    "\n",
    "#Function for finding the probability of rolling r, with DoA\n",
    "def disadv_of_adv_probability(r):\n",
    "    count = 0\n",
    "    for n in range(160000):\n",
    "        adv = []\n",
    "        for i,j in two_rolls_twice[n]:\n",
    "            adv.append(max(i,j))\n",
    "        disadv = min(adv)\n",
    "        if r == disadv:\n",
    "            count += 1\n",
    "    return (count / 160000)"
   ]
  },
  {
   "cell_type": "code",
   "execution_count": 77,
   "metadata": {},
   "outputs": [
    {
     "name": "stdout",
     "output_type": "stream",
     "text": [
      "The expected value for a roll with ADVANTAGE OF DISADVANTAGE is 9.833337499999999\n",
      "The expected value for a roll with DISADVANTAGE OF ADVANTAGE is 11.1666625\n"
     ]
    }
   ],
   "source": [
    "#Using the formula above to find expected value \n",
    "\n",
    "total = np.empty(20)\n",
    "for m in range(20):\n",
    "    total[m] = (m+1)*adv_of_disadv_probability(m+1)\n",
    "print('The expected value for a roll with ADVANTAGE OF DISADVANTAGE is', np.sum(total))\n",
    "\n",
    "\n",
    "total = np.empty(20)\n",
    "for p in range(20):\n",
    "    total[p] = (p+1)*disadv_of_adv_probability(p+1)\n",
    "print('The expected value for a roll with DISADVANTAGE OF ADVANTAGE is', np.sum(total))"
   ]
  },
  {
   "cell_type": "code",
   "execution_count": null,
   "metadata": {},
   "outputs": [],
   "source": []
  },
  {
   "cell_type": "markdown",
   "metadata": {},
   "source": [
    "## EXTRA CREDIT\n",
    "### We will use the Probability Mass Function (PMF) and Cumulative Distrabution Function (CDF) to answer this question\n",
    "#### Please note: I am a little shakey with graphing CDF's on python. Hopefully you can understand what I'm going for. Any help would be much appreciated!"
   ]
  },
  {
   "cell_type": "code",
   "execution_count": 83,
   "metadata": {},
   "outputs": [
    {
     "data": {
      "image/png": "[encoded data removed]",
      "text/plain": [
       "<Figure size 432x288 with 1 Axes>"
      ]
     },
     "metadata": {
      "needs_background": "light"
     },
     "output_type": "display_data"
    }
   ],
   "source": [
    "pmf = {}\n",
    "for i in range(20):\n",
    "    pmf[i+1] = 1/20\n",
    "\n",
    "    \n",
    "plt.bar(list(pmf.keys()), pmf.values(), color='g')\n",
    "\n",
    "plt.xlabel('Roll')\n",
    "plt.ylabel('Probability')\n",
    "\n",
    "x = [0,1,2,3,4,5,6,7,8,9,0,11,12,13,14,15,16,17,18,19,20]\n",
    "xi = list(range(len(x)))\n",
    "plt.xticks(xi, x)\n",
    "plt.title('pmf for a single roll')\n",
    "plt.show()\n"
   ]
  },
  {
   "cell_type": "code",
   "execution_count": 84,
   "metadata": {},
   "outputs": [
    {
     "data": {
      "image/png": "[encoded data removed]",
      "text/plain": [
       "<Figure size 432x288 with 1 Axes>"
      ]
     },
     "metadata": {
      "needs_background": "light"
     },
     "output_type": "display_data"
    }
   ],
   "source": [
    "cdf_values = np.cumsum(list(pmf.values()))\n",
    "\n",
    "cdf = {}\n",
    "for i in range(20):\n",
    "    cdf[i+1] = cdf_values[i]\n",
    "\n",
    "\n",
    "plt.bar(list(cdf.keys()), cdf.values(), color='g')\n",
    "\n",
    "plt.xlabel('Roll')\n",
    "plt.ylabel('Probability')\n",
    "\n",
    "x = [0,1,2,3,4,5,6,7,8,9,10,11,12,13,14,15,16,17,18,19,20]\n",
    "xi = list(range(len(x)))\n",
    "plt.xticks(xi, x)\n",
    "plt.title('cdf for a single roll')\n",
    "plt.show()"
   ]
  },
  {
   "cell_type": "code",
   "execution_count": 85,
   "metadata": {},
   "outputs": [
    {
     "data": {
      "image/png": "[encoded data removed]",
      "text/plain": [
       "<Figure size 432x288 with 1 Axes>"
      ]
     },
     "metadata": {
      "needs_background": "light"
     },
     "output_type": "display_data"
    }
   ],
   "source": [
    "pmf_2 = {}\n",
    "for i in range(20):\n",
    "    pmf_2[i+1] = adv_of_disadv_probability(i+1)\n",
    "\n",
    "    \n",
    "plt.bar(list(pmf_2.keys()), pmf_2.values(), color='g')\n",
    "\n",
    "plt.xlabel('Roll')\n",
    "plt.ylabel('Probability')\n",
    "\n",
    "x = [0,1,2,3,4,5,6,7,8,9,10,11,12,13,14,15,16,17,18,19,20]\n",
    "xi = list(range(len(x)))\n",
    "plt.xticks(xi, x)\n",
    "plt.title('pmf for AoD')\n",
    "plt.show()"
   ]
  },
  {
   "cell_type": "code",
   "execution_count": 86,
   "metadata": {},
   "outputs": [
    {
     "data": {
      "image/png": "[encoded data removed]",
      "text/plain": [
       "<Figure size 432x288 with 1 Axes>"
      ]
     },
     "metadata": {
      "needs_background": "light"
     },
     "output_type": "display_data"
    }
   ],
   "source": [
    "cdf_2_values = np.cumsum(list(pmf_2.values()))\n",
    "\n",
    "cdf_2 = {}\n",
    "for i in range(20):\n",
    "    cdf_2[i+1] = cdf_2_values[i]\n",
    "    \n",
    "plt.bar(list(cdf_2.keys()), cdf_2.values(), color='g')\n",
    "\n",
    "plt.xlabel('Roll')\n",
    "plt.ylabel('Probability')\n",
    "\n",
    "x = [0,1,2,3,4,5,6,7,8,9,10,11,12,13,14,15,16,17,18,19,20]\n",
    "xi = list(range(len(x)))\n",
    "plt.xticks(xi, x)\n",
    "plt.title('cdf for AoD')\n",
    "plt.show()"
   ]
  },
  {
   "cell_type": "code",
   "execution_count": 87,
   "metadata": {},
   "outputs": [
    {
     "data": {
      "image/png": "[encoded data removed]",
      "text/plain": [
       "<Figure size 432x288 with 1 Axes>"
      ]
     },
     "metadata": {
      "needs_background": "light"
     },
     "output_type": "display_data"
    }
   ],
   "source": [
    "pmf_3 = {}\n",
    "for i in range(20):\n",
    "    pmf_3[i+1] = disadv_of_adv_probability(i+1)\n",
    "\n",
    "    \n",
    "plt.bar(list(pmf_3.keys()), pmf_3.values(), color='g')\n",
    "\n",
    "plt.xlabel('Roll')\n",
    "plt.ylabel('Probability')\n",
    "\n",
    "x = [0,1,2,3,4,5,6,7,8,9,10,11,12,13,14,15,16,17,18,19,20]\n",
    "xi = list(range(len(x)))\n",
    "plt.xticks(xi, x)\n",
    "plt.title('pmf for DoA')\n",
    "plt.show()"
   ]
  },
  {
   "cell_type": "code",
   "execution_count": 88,
   "metadata": {},
   "outputs": [
    {
     "data": {
      "image/png": "[encoded data removed]",
      "text/plain": [
       "<Figure size 432x288 with 1 Axes>"
      ]
     },
     "metadata": {
      "needs_background": "light"
     },
     "output_type": "display_data"
    }
   ],
   "source": [
    "cdf_3_values = np.cumsum(list(pmf_3.values()))\n",
    "\n",
    "cdf_3 = {}\n",
    "for i in range(20):\n",
    "    cdf_3[i+1] = cdf_3_values[i]\n",
    "    \n",
    "plt.bar(list(cdf_3.keys()), cdf_3.values(), color='g')\n",
    "\n",
    "plt.xlabel('Roll')\n",
    "plt.ylabel('Probability')\n",
    "\n",
    "x = [0,1,2,3,4,5,6,7,8,9,10,11,12,13,14,15,16,17,18,19,20]\n",
    "xi = list(range(len(x)))\n",
    "plt.xticks(xi, x)\n",
    "plt.title('cdf for DoA')\n",
    "plt.show()"
   ]
  },
  {
   "cell_type": "markdown",
   "metadata": {},
   "source": [
    "### Comparing CDF's"
   ]
  },
  {
   "cell_type": "code",
   "execution_count": 89,
   "metadata": {},
   "outputs": [
    {
     "data": {
      "image/png": "[encoded data removed]",
      "text/plain": [
       "<Figure size 432x288 with 1 Axes>"
      ]
     },
     "metadata": {
      "needs_background": "light"
     },
     "output_type": "display_data"
    }
   ],
   "source": [
    "\n",
    "plt.bar(list(cdf_2.keys()), cdf_2.values(), label = 'AoD', color='r', alpha=0.75, edgecolor='black')\n",
    "plt.bar(list(cdf_3.keys()), cdf_3.values(),label = 'DoA', color='b', alpha=0.75, edgecolor='black')\n",
    "\n",
    "\n",
    "plt.legend()\n",
    "\n",
    "plt.xlabel('Roll')\n",
    "plt.ylabel('Probability')\n",
    "\n",
    "x = [0,1,2,3,4,5,6,7,8,9,10,11,12,13,14,15,16,17,18,19,20]\n",
    "xi = list(range(len(x)))\n",
    "plt.xticks(xi, x)\n",
    "plt.title('cdf AoD vs DoA')\n",
    "plt.show()"
   ]
  },
  {
   "cell_type": "code",
   "execution_count": 90,
   "metadata": {},
   "outputs": [
    {
     "data": {
      "image/png": "[encoded data removed]",
      "text/plain": [
       "<Figure size 432x288 with 1 Axes>"
      ]
     },
     "metadata": {
      "needs_background": "light"
     },
     "output_type": "display_data"
    }
   ],
   "source": [
    "plt.bar(list(cdf_2.keys()), cdf_2.values(), label = 'AoD', color='r', alpha=0.85, edgecolor='black')\n",
    "\n",
    "plt.bar(list(cdf.keys()), cdf.values(), label = 'Single', color='yellow', alpha=0.75, edgecolor='black')\n",
    "\n",
    "plt.legend()\n",
    "\n",
    "plt.xlabel('Roll')\n",
    "plt.ylabel('Probability')\n",
    "\n",
    "x = [0,1,2,3,4,5,6,7,8,9,10,11,12,13,14,15,16,17,18,19,20]\n",
    "xi = list(range(len(x)))\n",
    "plt.xticks(xi, x)\n",
    "plt.title('cdf AoD vs. Single Roll')\n",
    "plt.show()"
   ]
  },
  {
   "cell_type": "code",
   "execution_count": 91,
   "metadata": {},
   "outputs": [
    {
     "data": {
      "image/png": "[encoded data removed]",
      "text/plain": [
       "<Figure size 432x288 with 1 Axes>"
      ]
     },
     "metadata": {
      "needs_background": "light"
     },
     "output_type": "display_data"
    }
   ],
   "source": [
    "\n",
    "plt.bar(list(cdf_3.keys()), cdf_3.values(),label = 'DoA', color='b', alpha=0.75, edgecolor='black')\n",
    "plt.bar(list(cdf.keys()), cdf.values(), label = 'Single', color='yellow', alpha=0.75, edgecolor='black')\n",
    "\n",
    "plt.legend()\n",
    "\n",
    "plt.xlabel('Roll')\n",
    "plt.ylabel('Probability')\n",
    "\n",
    "x = [0,1,2,3,4,5,6,7,8,9,10,11,12,13,14,15,16,17,18,19,20]\n",
    "xi = list(range(len(x)))\n",
    "plt.xticks(xi, x)\n",
    "plt.title('cdf DoA vs. Single Roll')\n",
    "plt.show()"
   ]
  },
  {
   "cell_type": "markdown",
   "metadata": {},
   "source": [
    "### The graphs of the CDF's and PMF's were moreso just for fun. Once we have the CDF, we can easily calculate the probabilty of rolling $N$ or higher. Evaluating the CDF at a given function (say $x$) will tell us the probability of rolling $x$ or lower. Thus, 1 minus the CDF evaluated at $x$ will tell us the probability of rolling $x+1$ or higher. This is the idea behind the following code:"
   ]
  },
  {
   "cell_type": "code",
   "execution_count": 92,
   "metadata": {},
   "outputs": [
    {
     "name": "stdout",
     "output_type": "stream",
     "text": [
      "The greatest probability of rolling a 2 or above is 0.995 (achieved by  DoA )\n",
      "The greatest probability of rolling a 3 or above is 0.9801 (achieved by  DoA )\n",
      "The greatest probability of rolling a 4 or above is 0.9555 (achieved by  DoA )\n",
      "The greatest probability of rolling a 5 or above is 0.9216 (achieved by  DoA )\n",
      "The greatest probability of rolling a 6 or above is 0.8789 (achieved by  DoA )\n",
      "The greatest probability of rolling a 7 or above is 0.8281 (achieved by  DoA )\n",
      "The greatest probability of rolling a 8 or above is 0.77 (achieved by  DoA )\n",
      "The greatest probability of rolling a 9 or above is 0.7056 (achieved by  DoA )\n",
      "The greatest probability of rolling a 10 or above is 0.636 (achieved by  DoA )\n",
      "The greatest probability of rolling a 11 or above is 0.5625 (achieved by  DoA )\n",
      "The greatest probability of rolling a 12 or above is 0.4865 (achieved by  DoA )\n",
      "The greatest probability of rolling a 13 or above is 0.4096 (achieved by  DoA )\n",
      "The greatest probability of rolling a 14 or above is 0.35 (achieved by  Single Die Roll )\n",
      "The greatest probability of rolling a 15 or above is 0.3 (achieved by  Single Die Roll )\n",
      "The greatest probability of rolling a 16 or above is 0.25 (achieved by  Single Die Roll )\n",
      "The greatest probability of rolling a 17 or above is 0.2 (achieved by  Single Die Roll )\n",
      "The greatest probability of rolling a 18 or above is 0.15 (achieved by  Single Die Roll )\n",
      "The greatest probability of rolling a 19 or above is 0.1 (achieved by  Single Die Roll )\n",
      "The greatest probability of rolling a 20 or above is 0.05 (achieved by  Single Die Roll )\n"
     ]
    }
   ],
   "source": [
    "types = ['Single Die Roll', 'AoD', 'DoA']\n",
    "for i in range(19):\n",
    "    print('The greatest probability of rolling a', i+2, 'or above is', \n",
    "          round(np.max([1-list(cdf.values())[i], 1-list(cdf_2.values())[i], 1-list(cdf_3.values())[i]]), 4), \n",
    "         '(achieved by ', types[np.argmax([1-list(cdf.values())[i], 1-list(cdf_2.values())[i], 1-list(cdf_3.values())[i]])],')')\n",
    "    \n",
    "    \n",
    "    "
   ]
  },
  {
   "cell_type": "code",
   "execution_count": null,
   "metadata": {},
   "outputs": [],
   "source": []
  }
 ],
 "metadata": {
  "kernelspec": {
   "display_name": "Python 3",
   "language": "python",
   "name": "python3"
  },
  "language_info": {
   "codemirror_mode": {
    "name": "ipython",
    "version": 3
   },
   "file_extension": ".py",
   "mimetype": "text/x-python",
   "name": "python",
   "nbconvert_exporter": "python",
   "pygments_lexer": "ipython3",
   "version": "3.7.6"
  }
 },
 "nbformat": 4,
 "nbformat_minor": 4
}
